{
 "cells": [
  {
   "cell_type": "code",
   "execution_count": 1,
   "id": "a78bb2d0",
   "metadata": {
    "execution": {
     "iopub.execute_input": "2022-07-20T09:24:10.574643Z",
     "iopub.status.busy": "2022-07-20T09:24:10.574211Z",
     "iopub.status.idle": "2022-07-20T09:24:11.737892Z",
     "shell.execute_reply": "2022-07-20T09:24:11.736742Z"
    },
    "papermill": {
     "duration": 1.178986,
     "end_time": "2022-07-20T09:24:11.741737",
     "exception": false,
     "start_time": "2022-07-20T09:24:10.562751",
     "status": "completed"
    },
    "tags": []
   },
   "outputs": [],
   "source": [
    "import pandas as pd\n",
    "\n",
    "from relative_path import PATH_DATA, PATH_OUTPUT_DATA, PATH_OUTPUT_GRAPH, PATH_OUTPUT_PROF\n",
    "from relative_path import TRACK_DATA, ARTIST_DATA, FEATURE_COLS, PROCESSED_FEATURE_DATA\n",
    "\n",
    "from pandas import DataFrame, Series\n",
    "from typing import List, Dict\n",
    "\n",
    "from data_preprocessing import isolate_columns, preprocess_df"
   ]
  },
  {
   "attachments": {},
   "cell_type": "markdown",
   "id": "fda32b01",
   "metadata": {},
   "source": [
    "## Standard"
   ]
  },
  {
   "cell_type": "code",
   "execution_count": 2,
   "id": "608ee07e",
   "metadata": {},
   "outputs": [],
   "source": [
    "df_tracks =     pd.read_parquet(TRACK_DATA)\n",
    "df_artists =    pd.read_parquet(ARTIST_DATA)\n",
    "\n",
    "# Separate the main criterias from its features.\n",
    "dfp_tracks, dfp_features = isolate_columns(df_tracks, FEATURE_COLS)"
   ]
  },
  {
   "cell_type": "code",
   "execution_count": 3,
   "id": "8e46e9ff",
   "metadata": {},
   "outputs": [],
   "source": [
    "# Preprocess Dataframe - sorting and re-indexing\n",
    "dfp_tracks = preprocess_df(dfp_tracks, sort_by=\"popularity\")\n",
    "dfp_artists = preprocess_df(df_artists, sort_by=\"popularity\")\n",
    "\n",
    "# Rename column\n",
    "dfp_tracks.rename(columns = {\"id\":\"track_id\", \"name\":\"track_name\", \"popularity\": \"track_popularity\", \"artists\":\"artist_name\", \"id_artists\":\"artist_id\"}, inplace=True)\n",
    "dfp_artists.rename(columns = {\"id\":\"artist_id\", \"name\":\"artist_name\", \"popularity\": \"artist_popularity\", \"followers\":\"artist_followers\"}, inplace=True)\n",
    "dfp_features.rename(columns = {\"id\":\"track_id\"}, inplace=True)"
   ]
  },
  {
   "cell_type": "code",
   "execution_count": 4,
   "id": "2fa984cf",
   "metadata": {},
   "outputs": [],
   "source": [
    "# Checking and processing the DATATYPES. \n",
    "dfp_tracks[\"dates\"] = pd.to_datetime(dfp_tracks[\"release_date\"])\n",
    "dfp_tracks[\"release_date\"] = pd.to_datetime(dfp_tracks[\"release_date\"])\n",
    "dfp_tracks[\"year\"]=dfp_tracks[\"release_date\"].dt.year\n",
    "\n",
    "dfp_tracks.drop(['release_date', 'dates'], axis=1, inplace=True)"
   ]
  },
  {
   "cell_type": "code",
   "execution_count": 5,
   "id": "74097ce5",
   "metadata": {},
   "outputs": [],
   "source": [
    "# Process Data - Remove popularity values that less than 20. Too much data - distorts the distribution. \n",
    "dfp_tracks = dfp_tracks[dfp_tracks[\"track_popularity\"] >= 20]\n",
    "# dfp_artists = dfp_artists[dfp_artists[\"artist_popularity\"] >= 20]     # This might mess with the apply function - getting the total followers"
   ]
  },
  {
   "cell_type": "code",
   "execution_count": 55,
   "id": "7149cc36",
   "metadata": {},
   "outputs": [],
   "source": [
    "def remove_characters(string:str, special_char:str = None):\n",
    "    if special_char == None:\n",
    "        special_char = \"@#$*&\"\n",
    "        \n",
    "    lst_special_char = [x for x in special_char]\n",
    "    result = \"\".join(filter(lambda char: char not in lst_special_char , string))\n",
    "    return result\n",
    "\n",
    "def something(lst):\n",
    "    x = remove_characters(lst, \"[]'\")\n",
    "    x = x.split(\",\")\n",
    "    x = [a.strip() for a in x]\n",
    "    \n",
    "    result = []\n",
    "    for a in x:\n",
    "        sample = df_artists[df_artists[\"artist_id\"] == a]\n",
    "        another = sample[\"artist_followers\"].tolist()\n",
    "        \n",
    "        for b in another:\n",
    "            result.append(int(b))\n",
    "            \n",
    "    return sum(result)\n"
   ]
  },
  {
   "cell_type": "code",
   "execution_count": null,
   "id": "ee495110",
   "metadata": {},
   "outputs": [],
   "source": [
    "def remove_characters(string:str, special_char:str = None):\n",
    "    if special_char == None:\n",
    "        special_char = \"@#$*&\"\n",
    "        \n",
    "    lst_special_char = [x for x in special_char]\n",
    "    result = \"\".join(filter(lambda char: char not in lst_special_char , string))\n",
    "    return result\n",
    "\n",
    "def apply_fn_followers(string:str) -> int:\n",
    "    \"\"\" Returns the total followers, called under the pandas apply fn. \"\"\"\n",
    "    str_process = remove_characters(string, \"[]'\")\n",
    "    str_process = str_process.split(\",\")\n",
    "    followers_id = [x.strip() for x in str_process]\n",
    "    \n",
    "    results = []\n",
    "    for follower in followers_id:\n",
    "        match = df_artists[df_artists[\"artists_id\"]==follower]\n",
    "        match_lst = match[\"artist_followers\"].tolist()\n",
    "        \n",
    "        # If no match, then break.\n",
    "        if match_lst == [] or match_lst == None:\n",
    "            break\n",
    "        \n",
    "        # Flattening the list\n",
    "        for index, result in enumerate(match_lst): \n",
    "            results.append(int(result))\n",
    "            if index == 1:\n",
    "                break\n",
    "            \n",
    "            \n",
    "    return sum(result)"
   ]
  },
  {
   "attachments": {},
   "cell_type": "markdown",
   "id": "f9bad321",
   "metadata": {},
   "source": [
    "## Export - Processed Data"
   ]
  },
  {
   "cell_type": "code",
   "execution_count": null,
   "id": "228daec5",
   "metadata": {},
   "outputs": [],
   "source": [
    "# Export Final Feature\n",
    "#dfp_features.to_parquet(PROCESSED_FEATURE_DATA)"
   ]
  }
 ],
 "metadata": {
  "kernelspec": {
   "display_name": "Python 3",
   "language": "python",
   "name": "python3"
  },
  "language_info": {
   "codemirror_mode": {
    "name": "ipython",
    "version": 3
   },
   "file_extension": ".py",
   "mimetype": "text/x-python",
   "name": "python",
   "nbconvert_exporter": "python",
   "pygments_lexer": "ipython3",
   "version": "3.9.1 (v3.9.1:1e5d33e9b9, Dec  7 2020, 12:10:52) \n[Clang 6.0 (clang-600.0.57)]"
  },
  "papermill": {
   "default_parameters": {},
   "duration": 49.860583,
   "end_time": "2022-07-20T09:24:50.187926",
   "environment_variables": {},
   "exception": null,
   "input_path": "__notebook__.ipynb",
   "output_path": "__notebook__.ipynb",
   "parameters": {},
   "start_time": "2022-07-20T09:24:00.327343",
   "version": "2.3.4"
  },
  "vscode": {
   "interpreter": {
    "hash": "aee8b7b246df8f9039afb4144a1f6fd8d2ca17a180786b69acc140d282b71a49"
   }
  }
 },
 "nbformat": 4,
 "nbformat_minor": 5
}
