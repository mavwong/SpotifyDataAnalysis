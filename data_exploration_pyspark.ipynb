{
 "cells": [
  {
   "cell_type": "code",
   "execution_count": 1,
   "id": "a78bb2d0",
   "metadata": {
    "execution": {
     "iopub.execute_input": "2022-07-20T09:24:10.574643Z",
     "iopub.status.busy": "2022-07-20T09:24:10.574211Z",
     "iopub.status.idle": "2022-07-20T09:24:11.737892Z",
     "shell.execute_reply": "2022-07-20T09:24:11.736742Z"
    },
    "papermill": {
     "duration": 1.178986,
     "end_time": "2022-07-20T09:24:11.741737",
     "exception": false,
     "start_time": "2022-07-20T09:24:10.562751",
     "status": "completed"
    },
    "tags": []
   },
   "outputs": [],
   "source": [
    "from pathlib import Path\n",
    "from pyspark.sql import SparkSession"
   ]
  },
  {
   "cell_type": "code",
   "execution_count": 2,
   "id": "f5a657f9",
   "metadata": {},
   "outputs": [],
   "source": [
    "# Creating SparkSession\n",
    "# Reading the Dataset / inferschema option\n",
    "# Check the dataframe / schema (SHOWING THE DATASET)\n",
    "# Head, Columns, dtypes, describe\n",
    "# Getting the columns / selecting (Multiple selection with a list)\n"
   ]
  },
  {
   "attachments": {},
   "cell_type": "markdown",
   "id": "fda32b01",
   "metadata": {},
   "source": [
    "## Standard"
   ]
  },
  {
   "cell_type": "code",
   "execution_count": 3,
   "id": "ff8c3af3",
   "metadata": {},
   "outputs": [],
   "source": [
    "PATH_ROOT = Path.cwd()\n",
    "PATH_DATA = PATH_ROOT / \"data\""
   ]
  },
  {
   "cell_type": "code",
   "execution_count": 4,
   "id": "4dd890bb",
   "metadata": {},
   "outputs": [],
   "source": [
    "TRACK_DATA = PATH_DATA / \"tracks.parquet\"\n",
    "ARTISTS_DATA = PATH_DATA / \"artists.parquet\""
   ]
  },
  {
   "attachments": {},
   "cell_type": "markdown",
   "id": "2602cab0",
   "metadata": {},
   "source": [
    "## Exploring the Dataset"
   ]
  },
  {
   "cell_type": "code",
   "execution_count": 5,
   "id": "608ee07e",
   "metadata": {},
   "outputs": [
    {
     "name": "stdout",
     "output_type": "stream",
     "text": [
      "23/01/30 21:34:52 WARN Utils: Your hostname, Johns-MacBook-Pro.local resolves to a loopback address: 127.0.0.1; using 192.168.68.109 instead (on interface en0)\n",
      "23/01/30 21:34:52 WARN Utils: Set SPARK_LOCAL_IP if you need to bind to another address\n"
     ]
    },
    {
     "name": "stderr",
     "output_type": "stream",
     "text": [
      "Setting default log level to \"WARN\".\n",
      "To adjust logging level use sc.setLogLevel(newLevel). For SparkR, use setLogLevel(newLevel).\n"
     ]
    },
    {
     "name": "stdout",
     "output_type": "stream",
     "text": [
      "23/01/30 21:34:53 WARN NativeCodeLoader: Unable to load native-hadoop library for your platform... using builtin-java classes where applicable\n"
     ]
    }
   ],
   "source": [
    "spark = SparkSession.builder.appName('Practise').getOrCreate()"
   ]
  },
  {
   "cell_type": "code",
   "execution_count": 8,
   "id": "6c813cce",
   "metadata": {},
   "outputs": [
    {
     "name": "stderr",
     "output_type": "stream",
     "text": [
      "                                                                                \r"
     ]
    }
   ],
   "source": [
    "# Reading the Parquet file\n",
    "df_tracks = spark.read.parquet(str(TRACK_DATA), header=True, inferSchema=True)"
   ]
  },
  {
   "cell_type": "code",
   "execution_count": 14,
   "id": "4301fa2b",
   "metadata": {},
   "outputs": [
    {
     "data": {
      "text/plain": [
       "Row(id='35iwgR4jXetI318WEWsa1Q', name='Carve', popularity=6, duration_ms=126903, explicit=0, artists=\"['Uli']\", id_artists=\"['45tIt06XoI0Iio4LBEVpls']\", release_date='1922-02-22', danceability=0.645, energy=0.445, key=0, loudness=-13.338, mode=1, speechiness=0.451, acousticness=0.674, instrumentalness=0.744, liveness=0.151, valence=0.127, tempo=104.851, time_signature=3)"
      ]
     },
     "execution_count": 14,
     "metadata": {},
     "output_type": "execute_result"
    }
   ],
   "source": [
    "# Checing the schema of the dataframe\n",
    "df_tracks.printSchema()\n",
    "\n",
    "# Showint the column\n",
    "df_tracks.show()\n",
    "\n",
    "# Getting the top datas\n",
    "df_tracks.head()"
   ]
  },
  {
   "cell_type": "code",
   "execution_count": 26,
   "id": "63912ba1",
   "metadata": {},
   "outputs": [
    {
     "data": {
      "text/plain": [
       "['id',\n",
       " 'name',\n",
       " 'popularity',\n",
       " 'duration_ms',\n",
       " 'explicit',\n",
       " 'artists',\n",
       " 'id_artists',\n",
       " 'release_date',\n",
       " 'danceability',\n",
       " 'energy',\n",
       " 'key',\n",
       " 'loudness',\n",
       " 'mode',\n",
       " 'speechiness',\n",
       " 'acousticness',\n",
       " 'instrumentalness',\n",
       " 'liveness',\n",
       " 'valence',\n",
       " 'tempo',\n",
       " 'time_signature']"
      ]
     },
     "execution_count": 26,
     "metadata": {},
     "output_type": "execute_result"
    }
   ],
   "source": [
    "df_tracks.columns"
   ]
  },
  {
   "cell_type": "code",
   "execution_count": 18,
   "id": "a7527d7b",
   "metadata": {},
   "outputs": [
    {
     "name": "stdout",
     "output_type": "stream",
     "text": [
      "+-------+\n",
      "|valence|\n",
      "+-------+\n",
      "|  0.127|\n",
      "|  0.655|\n",
      "|  0.457|\n",
      "|  0.397|\n",
      "|  0.196|\n",
      "| 0.0539|\n",
      "|  0.727|\n",
      "|  0.654|\n",
      "|  0.544|\n",
      "|  0.612|\n",
      "|  0.724|\n",
      "|  0.531|\n",
      "|  0.402|\n",
      "|  0.897|\n",
      "|   0.84|\n",
      "|  0.478|\n",
      "|  0.693|\n",
      "|  0.613|\n",
      "|  0.414|\n",
      "|  0.753|\n",
      "+-------+\n",
      "only showing top 20 rows\n",
      "\n"
     ]
    }
   ],
   "source": [
    "# Getting numerical and statistical information\n",
    "df_tracks.describe().show()\n",
    "\n",
    "# Selecting \n",
    "df_tracks.select(\"valence\").show()\n",
    "\n",
    "# Selecting multiple\n",
    "df_tracks.select([\"id\", \"name\"]).show()\n",
    "\n",
    "# Renaming Column\n",
    "df_tracks.withColumnRenamed(\"popularity\", \"track_popularity\")\n",
    "\n",
    "# Dropping the column\n",
    "df_tracks = df_tracks.drop('explicit')"
   ]
  },
  {
   "attachments": {},
   "cell_type": "markdown",
   "id": "282bc2f8",
   "metadata": {},
   "source": [
    "## Handling Missing Values"
   ]
  },
  {
   "cell_type": "code",
   "execution_count": 30,
   "id": "ef70ff25",
   "metadata": {},
   "outputs": [
    {
     "name": "stdout",
     "output_type": "stream",
     "text": [
      "+--------------------+--------------------+----------+-----------+--------+-------------------+--------------------+------------+------------+------+---+--------+----+-----------+------------+----------------+--------+-------+-------+--------------+\n",
      "|                  id|                name|popularity|duration_ms|explicit|            artists|          id_artists|release_date|danceability|energy|key|loudness|mode|speechiness|acousticness|instrumentalness|liveness|valence|  tempo|time_signature|\n",
      "+--------------------+--------------------+----------+-----------+--------+-------------------+--------------------+------------+------------+------+---+--------+----+-----------+------------+----------------+--------+-------+-------+--------------+\n",
      "|35iwgR4jXetI318WE...|               Carve|         6|     126903|       0|            ['Uli']|['45tIt06XoI0Iio4...|  1922-02-22|       0.645| 0.445|  0| -13.338|   1|      0.451|       0.674|           0.744|   0.151|  0.127|104.851|             3|\n",
      "|021ht4sdgPcrDgSk7...|Capítulo 2.16 - B...|         0|      98200|       0|['Fernando Pessoa']|['14jtPCOoNZwquk5...|  1922-06-01|       0.695| 0.263|  0| -22.136|   1|      0.957|       0.797|             0.0|   0.148|  0.655|102.009|             1|\n",
      "|07A5yehtSnoedViJA...|Vivo para Querert...|         0|     181640|       0|['Ignacio Corsini']|['5LiOoJbxVSAMkBS...|  1922-03-21|       0.434| 0.177|  1|  -21.18|   1|     0.0512|       0.994|          0.0218|   0.212|  0.457|130.418|             5|\n",
      "+--------------------+--------------------+----------+-----------+--------+-------------------+--------------------+------------+------------+------+---+--------+----+-----------+------------+----------------+--------+-------+-------+--------------+\n",
      "only showing top 3 rows\n",
      "\n"
     ]
    }
   ],
   "source": [
    "df_tracks.show(3)"
   ]
  },
  {
   "cell_type": "code",
   "execution_count": null,
   "id": "5ac61500",
   "metadata": {},
   "outputs": [],
   "source": [
    "# Drop values that \n",
    "df_tracks.na.drop(how=\"any\").show(3)\n",
    "\n",
    "##threshold\n",
    "df_tracks.na.drop(how=\"any\",thresh=3).show()\n",
    "\n",
    "##Subset\n",
    "df_tracks.na.drop(how=\"any\",subset=['Age']).show()\n",
    "\n",
    "### Filling the Missing Value\n",
    "df_tracks.na.fill('Missing Values',['Experience','age']).show()\n",
    "\n",
    "df_tracks.printSchema()"
   ]
  },
  {
   "attachments": {},
   "cell_type": "markdown",
   "id": "aebbf629",
   "metadata": {},
   "source": [
    "## Filtering Options"
   ]
  },
  {
   "cell_type": "code",
   "execution_count": null,
   "id": "3f7f09b9",
   "metadata": {},
   "outputs": [],
   "source": [
    "### Salary of the people less than or equal to 20000\n",
    "df_pyspark.filter(\"Salary<=20000\").show()\n",
    "\n",
    "df_pyspark.filter(\"Salary<=20000\").select(['Name','age']).show()\n",
    "\n",
    "df_pyspark.filter(df_pyspark['Salary']<=20000).show()\n",
    "\n",
    "df_pyspark.filter((df_pyspark['Salary']<=20000) | \n",
    "                  (df_pyspark['Salary']>=15000)).show()\n",
    "\n",
    "df_pyspark.filter(~(df_pyspark['Salary']<=20000)).show()"
   ]
  },
  {
   "attachments": {},
   "cell_type": "markdown",
   "id": "1b9e38a7",
   "metadata": {},
   "source": [
    "## GroupBy and Aggregating the Data"
   ]
  },
  {
   "cell_type": "markdown",
   "id": "a32fa03a",
   "metadata": {},
   "source": []
  }
 ],
 "metadata": {
  "kernelspec": {
   "display_name": "Python 3",
   "language": "python",
   "name": "python3"
  },
  "language_info": {
   "codemirror_mode": {
    "name": "ipython",
    "version": 3
   },
   "file_extension": ".py",
   "mimetype": "text/x-python",
   "name": "python",
   "nbconvert_exporter": "python",
   "pygments_lexer": "ipython3",
   "version": "3.9.1"
  },
  "papermill": {
   "default_parameters": {},
   "duration": 49.860583,
   "end_time": "2022-07-20T09:24:50.187926",
   "environment_variables": {},
   "exception": null,
   "input_path": "__notebook__.ipynb",
   "output_path": "__notebook__.ipynb",
   "parameters": {},
   "start_time": "2022-07-20T09:24:00.327343",
   "version": "2.3.4"
  },
  "vscode": {
   "interpreter": {
    "hash": "aee8b7b246df8f9039afb4144a1f6fd8d2ca17a180786b69acc140d282b71a49"
   }
  }
 },
 "nbformat": 4,
 "nbformat_minor": 5
}
