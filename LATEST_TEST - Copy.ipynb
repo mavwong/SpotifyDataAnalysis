{
 "cells": [
  {
   "cell_type": "code",
   "execution_count": 2,
   "id": "83a56e13",
   "metadata": {},
   "outputs": [],
   "source": [
    "import pyspark"
   ]
  },
  {
   "cell_type": "code",
   "execution_count": 3,
   "id": "11e3a055",
   "metadata": {},
   "outputs": [],
   "source": [
    "from pyspark.sql import SparkSession"
   ]
  },
  {
   "cell_type": "code",
   "execution_count": 4,
   "id": "22e8a2a9",
   "metadata": {},
   "outputs": [],
   "source": [
    "spark = SparkSession.builder.appName(\"Practise\").getOrCreate()"
   ]
  },
  {
   "cell_type": "code",
   "execution_count": 5,
   "id": "3031333f",
   "metadata": {},
   "outputs": [
    {
     "data": {
      "text/html": [
       "\n",
       "            <div>\n",
       "                <p><b>SparkSession - in-memory</b></p>\n",
       "                \n",
       "        <div>\n",
       "            <p><b>SparkContext</b></p>\n",
       "\n",
       "            <p><a href=\"http://DESKTOP-GTRPGEL:4040\">Spark UI</a></p>\n",
       "\n",
       "            <dl>\n",
       "              <dt>Version</dt>\n",
       "                <dd><code>v3.3.1</code></dd>\n",
       "              <dt>Master</dt>\n",
       "                <dd><code>local[*]</code></dd>\n",
       "              <dt>AppName</dt>\n",
       "                <dd><code>Practise</code></dd>\n",
       "            </dl>\n",
       "        </div>\n",
       "        \n",
       "            </div>\n",
       "        "
      ],
      "text/plain": [
       "<pyspark.sql.session.SparkSession at 0x201c4676f80>"
      ]
     },
     "execution_count": 5,
     "metadata": {},
     "output_type": "execute_result"
    }
   ],
   "source": [
    "spark"
   ]
  },
  {
   "cell_type": "code",
   "execution_count": 6,
   "id": "12962ef4",
   "metadata": {},
   "outputs": [],
   "source": [
    "file = r\"data\\raw_data\\tracks.parquet\""
   ]
  },
  {
   "cell_type": "code",
   "execution_count": 7,
   "id": "f8172af8",
   "metadata": {},
   "outputs": [],
   "source": [
    "sample_parquet = spark.read.csv(file)"
   ]
  },
  {
   "cell_type": "code",
   "execution_count": 8,
   "id": "8d854b77",
   "metadata": {},
   "outputs": [
    {
     "name": "stdout",
     "output_type": "stream",
     "text": [
      "+--------------------+\n",
      "|                 _c0|\n",
      "+--------------------+\n",
      "|PAR1\u0015\u0004\u0015���\u0001\u0015��wL\u0015...|\n",
      "|T5ZQdHBQwtS0iKSyR...|\n",
      "|L1xEEYhWxT4WhDQdx...|\n",
      "|T2DAK09fP0bobALaA...|\n",
      "|P43WZyNbzOJOnKQSt...|\n",
      "|P0Wi1XhlXoxuZHVhu...|\n",
      "|P1edbuMXvCWHgW78H...|\n",
      "|L1lxRFRONmnUxRz5Y...|\n",
      "|L1xYkJjXx83VuTcaV...|\n",
      "|P2CALgoRXs5TedfP7...|\n",
      "|P2aSHEubeGWVpJwQf...|\n",
      "|P2e6jVBimYdHUgveL...|\n",
      "|P2lfBwShUHcbTlQlt...|\n",
      "|P34mNRdIyIPh54mND...|\n",
      "|P39zX6LsaEcaluNfw...|\n",
      "|P3GPFBKLtvTe3V63n...|\n",
      "|P3k8zGG9LmgT9I68R...|\n",
      "|L3pjehtgPoqwg771O...|\n",
      "|P4Oy82y4C7BmmbRKw...|\n",
      "|P4e0Z62eclfkLbJIS...|\n",
      "+--------------------+\n",
      "only showing top 20 rows\n",
      "\n"
     ]
    }
   ],
   "source": [
    "sample_parquet.show()"
   ]
  },
  {
   "cell_type": "code",
   "execution_count": 9,
   "id": "a4d04952",
   "metadata": {},
   "outputs": [],
   "source": [
    "df_sample = spark.read.option(\"header\", \"true\").parquet(file)"
   ]
  },
  {
   "cell_type": "code",
   "execution_count": 10,
   "id": "75ebf0c9",
   "metadata": {},
   "outputs": [
    {
     "data": {
      "text/plain": [
       "[Row(id='35iwgR4jXetI318WEWsa1Q', name='Carve', popularity=6, duration_ms=126903, explicit=0, artists=\"['Uli']\", id_artists=\"['45tIt06XoI0Iio4LBEVpls']\", release_date='1922-02-22', danceability=0.645, energy=0.445, key=0, loudness=-13.338, mode=1, speechiness=0.451, acousticness=0.674, instrumentalness=0.744, liveness=0.151, valence=0.127, tempo=104.851, time_signature=3)]"
      ]
     },
     "execution_count": 10,
     "metadata": {},
     "output_type": "execute_result"
    }
   ],
   "source": [
    "df_sample.head(1)"
   ]
  },
  {
   "cell_type": "code",
   "execution_count": 11,
   "id": "e063ff28",
   "metadata": {},
   "outputs": [
    {
     "name": "stdout",
     "output_type": "stream",
     "text": [
      "root\n",
      " |-- id: string (nullable = true)\n",
      " |-- name: string (nullable = true)\n",
      " |-- popularity: long (nullable = true)\n",
      " |-- duration_ms: long (nullable = true)\n",
      " |-- explicit: long (nullable = true)\n",
      " |-- artists: string (nullable = true)\n",
      " |-- id_artists: string (nullable = true)\n",
      " |-- release_date: string (nullable = true)\n",
      " |-- danceability: double (nullable = true)\n",
      " |-- energy: double (nullable = true)\n",
      " |-- key: long (nullable = true)\n",
      " |-- loudness: double (nullable = true)\n",
      " |-- mode: long (nullable = true)\n",
      " |-- speechiness: double (nullable = true)\n",
      " |-- acousticness: double (nullable = true)\n",
      " |-- instrumentalness: double (nullable = true)\n",
      " |-- liveness: double (nullable = true)\n",
      " |-- valence: double (nullable = true)\n",
      " |-- tempo: double (nullable = true)\n",
      " |-- time_signature: long (nullable = true)\n",
      "\n"
     ]
    }
   ],
   "source": [
    "df_sample.printSchema()"
   ]
  },
  {
   "cell_type": "code",
   "execution_count": 12,
   "id": "33f2727c",
   "metadata": {},
   "outputs": [
    {
     "data": {
      "text/plain": [
       "['id',\n",
       " 'name',\n",
       " 'popularity',\n",
       " 'duration_ms',\n",
       " 'explicit',\n",
       " 'artists',\n",
       " 'id_artists',\n",
       " 'release_date',\n",
       " 'danceability',\n",
       " 'energy',\n",
       " 'key',\n",
       " 'loudness',\n",
       " 'mode',\n",
       " 'speechiness',\n",
       " 'acousticness',\n",
       " 'instrumentalness',\n",
       " 'liveness',\n",
       " 'valence',\n",
       " 'tempo',\n",
       " 'time_signature']"
      ]
     },
     "execution_count": 12,
     "metadata": {},
     "output_type": "execute_result"
    }
   ],
   "source": [
    "df_sample.columns"
   ]
  },
  {
   "cell_type": "code",
   "execution_count": 13,
   "id": "fd6cb1fc",
   "metadata": {},
   "outputs": [
    {
     "name": "stdout",
     "output_type": "stream",
     "text": [
      "[Row(id='35iwgR4jXetI318WEWsa1Q', name='Carve', popularity=6, duration_ms=126903, explicit=0, artists=\"['Uli']\", id_artists=\"['45tIt06XoI0Iio4LBEVpls']\", release_date='1922-02-22', danceability=0.645, energy=0.445, key=0, loudness=-13.338, mode=1, speechiness=0.451, acousticness=0.674, instrumentalness=0.744, liveness=0.151, valence=0.127, tempo=104.851, time_signature=3), Row(id='021ht4sdgPcrDgSk7JTbKY', name='Capítulo 2.16 - Banquero Anarquista', popularity=0, duration_ms=98200, explicit=0, artists=\"['Fernando Pessoa']\", id_artists=\"['14jtPCOoNZwquk5wd9DxrY']\", release_date='1922-06-01', danceability=0.695, energy=0.263, key=0, loudness=-22.136, mode=1, speechiness=0.957, acousticness=0.797, instrumentalness=0.0, liveness=0.148, valence=0.655, tempo=102.009, time_signature=1)]\n",
      "<class 'list'>\n"
     ]
    }
   ],
   "source": [
    "print(df_sample.head(2))\n",
    "print(type(df_sample.head(2)))"
   ]
  },
  {
   "cell_type": "code",
   "execution_count": 18,
   "id": "c35bcb8f",
   "metadata": {},
   "outputs": [
    {
     "name": "stdout",
     "output_type": "stream",
     "text": [
      "+-------------------+\n",
      "|            artists|\n",
      "+-------------------+\n",
      "|            ['Uli']|\n",
      "|['Fernando Pessoa']|\n",
      "|['Ignacio Corsini']|\n",
      "|['Ignacio Corsini']|\n",
      "|    ['Dick Haymes']|\n",
      "|    ['Dick Haymes']|\n",
      "|  ['Francis Marty']|\n",
      "|    ['Mistinguett']|\n",
      "|    ['Greg Fieler']|\n",
      "|['Ignacio Corsini']|\n",
      "|['Fernando Pessoa']|\n",
      "|['Fernando Pessoa']|\n",
      "|            ['Uli']|\n",
      "|   ['Lucien Boyer']|\n",
      "|    ['Félix Mayol']|\n",
      "|['Fernando Pessoa']|\n",
      "|['Fernando Pessoa']|\n",
      "|['Fernando Pessoa']|\n",
      "| ['Victor Boucher']|\n",
      "|['Ignacio Corsini']|\n",
      "+-------------------+\n",
      "only showing top 20 rows\n",
      "\n"
     ]
    }
   ],
   "source": [
    "df_sample.select(\"artists\").show()"
   ]
  },
  {
   "cell_type": "code",
   "execution_count": 15,
   "id": "9a385d24",
   "metadata": {},
   "outputs": [
    {
     "data": {
      "text/plain": [
       "[('id', 'string'),\n",
       " ('name', 'string'),\n",
       " ('popularity', 'bigint'),\n",
       " ('duration_ms', 'bigint'),\n",
       " ('explicit', 'bigint'),\n",
       " ('artists', 'string'),\n",
       " ('id_artists', 'string'),\n",
       " ('release_date', 'string'),\n",
       " ('danceability', 'double'),\n",
       " ('energy', 'double'),\n",
       " ('key', 'bigint'),\n",
       " ('loudness', 'double'),\n",
       " ('mode', 'bigint'),\n",
       " ('speechiness', 'double'),\n",
       " ('acousticness', 'double'),\n",
       " ('instrumentalness', 'double'),\n",
       " ('liveness', 'double'),\n",
       " ('valence', 'double'),\n",
       " ('tempo', 'double'),\n",
       " ('time_signature', 'bigint')]"
      ]
     },
     "execution_count": 15,
     "metadata": {},
     "output_type": "execute_result"
    }
   ],
   "source": [
    "df_sample.dtypes"
   ]
  },
  {
   "cell_type": "code",
   "execution_count": 19,
   "id": "95b13c80",
   "metadata": {},
   "outputs": [
    {
     "name": "stdout",
     "output_type": "stream",
     "text": [
      "+--------------------+--------------------+\n",
      "|                  id|                name|\n",
      "+--------------------+--------------------+\n",
      "|35iwgR4jXetI318WE...|               Carve|\n",
      "|021ht4sdgPcrDgSk7...|Capítulo 2.16 - B...|\n",
      "|07A5yehtSnoedViJA...|Vivo para Querert...|\n",
      "|08FmqUhxtyLTn6pAh...|El Prisionero - R...|\n",
      "|08y9GfoqCWfOGsKdw...| Lady of the Evening|\n",
      "|0BRXJHRNGQ3W4v9fr...|           Ave Maria|\n",
      "|0Dd9ImXtAtGwsmsAD...|      La Butte Rouge|\n",
      "|0IA0Hju8CAgYfV1hw...|             La Java|\n",
      "|0IgI1UCz84pYeVetn...|  Old Fashioned Girl|\n",
      "|0JV4iqw2lSKJaHBQZ...|Martín Fierro - R...|\n",
      "|0OYGe21oScKJfanLy...|Capítulo 2.8 - Ba...|\n",
      "|0PE42H6tslQuyMMiG...|Capítulo 2.25 - B...|\n",
      "|0PH9AACae1f957JAa...|            Lazy Boi|\n",
      "|0QiT0Oo5QdLXdFw6R...|Tu Verras Montmartre|\n",
      "|0TWsNj5iSvbMTtbED...|Elle Prend L'boul...|\n",
      "|0cC9CYjLRIzwchQ42...|Capítulo 1.23 - B...|\n",
      "|0eb1PfHxT6HnXvvdU...|Capítulo 1.18 - B...|\n",
      "|0grXU6GKVNCVMJbse...|Capítulo 1.10 - B...|\n",
      "|0kCB1bDVBC8gWCFcn...|  Ca C'est Une Chose|\n",
      "|0l3BQsVJ7F76wlN5Q...|El Vendaval - Rem...|\n",
      "+--------------------+--------------------+\n",
      "only showing top 20 rows\n",
      "\n"
     ]
    }
   ],
   "source": [
    "df_sample.select([\"id\", \"name\"]).show()"
   ]
  },
  {
   "cell_type": "code",
   "execution_count": 21,
   "id": "a2f86c29",
   "metadata": {},
   "outputs": [
    {
     "name": "stdout",
     "output_type": "stream",
     "text": [
      "root\n",
      " |-- id: string (nullable = true)\n",
      " |-- name: string (nullable = true)\n",
      " |-- popularity: long (nullable = true)\n",
      " |-- duration_ms: long (nullable = true)\n",
      " |-- explicit: long (nullable = true)\n",
      " |-- artists: string (nullable = true)\n",
      " |-- id_artists: string (nullable = true)\n",
      " |-- release_date: string (nullable = true)\n",
      " |-- danceability: double (nullable = true)\n",
      " |-- energy: double (nullable = true)\n",
      " |-- key: long (nullable = true)\n",
      " |-- loudness: double (nullable = true)\n",
      " |-- mode: long (nullable = true)\n",
      " |-- speechiness: double (nullable = true)\n",
      " |-- acousticness: double (nullable = true)\n",
      " |-- instrumentalness: double (nullable = true)\n",
      " |-- liveness: double (nullable = true)\n",
      " |-- valence: double (nullable = true)\n",
      " |-- tempo: double (nullable = true)\n",
      " |-- time_signature: long (nullable = true)\n",
      "\n"
     ]
    }
   ],
   "source": [
    "df_sample.printSchema()"
   ]
  },
  {
   "cell_type": "code",
   "execution_count": 22,
   "id": "c5ed2113",
   "metadata": {},
   "outputs": [
    {
     "data": {
      "text/plain": [
       "DataFrame[summary: string, id: string, name: string, popularity: string, duration_ms: string, explicit: string, artists: string, id_artists: string, release_date: string, danceability: string, energy: string, key: string, loudness: string, mode: string, speechiness: string, acousticness: string, instrumentalness: string, liveness: string, valence: string, tempo: string, time_signature: string]"
      ]
     },
     "execution_count": 22,
     "metadata": {},
     "output_type": "execute_result"
    }
   ],
   "source": [
    "# Summary Statistics\n",
    "df_sample.describe()"
   ]
  },
  {
   "cell_type": "code",
   "execution_count": null,
   "id": "9809ee25",
   "metadata": {},
   "outputs": [],
   "source": []
  }
 ],
 "metadata": {
  "kernelspec": {
   "display_name": "Python 3",
   "language": "python",
   "name": "python3"
  },
  "language_info": {
   "codemirror_mode": {
    "name": "ipython",
    "version": 3
   },
   "file_extension": ".py",
   "mimetype": "text/x-python",
   "name": "python",
   "nbconvert_exporter": "python",
   "pygments_lexer": "ipython3",
   "version": "3.10.9"
  },
  "papermill": {
   "default_parameters": {},
   "duration": 49.860583,
   "end_time": "2022-07-20T09:24:50.187926",
   "environment_variables": {},
   "exception": null,
   "input_path": "__notebook__.ipynb",
   "output_path": "__notebook__.ipynb",
   "parameters": {},
   "start_time": "2022-07-20T09:24:00.327343",
   "version": "2.3.4"
  },
  "vscode": {
   "interpreter": {
    "hash": "ac757a60894b42cb14a64941491157a502fc22785306c5b6304cf66d5605242e"
   }
  }
 },
 "nbformat": 4,
 "nbformat_minor": 5
}
