{
 "cells": [
  {
   "cell_type": "code",
   "execution_count": 1,
   "id": "a78bb2d0",
   "metadata": {
    "execution": {
     "iopub.execute_input": "2022-07-20T09:24:10.574643Z",
     "iopub.status.busy": "2022-07-20T09:24:10.574211Z",
     "iopub.status.idle": "2022-07-20T09:24:11.737892Z",
     "shell.execute_reply": "2022-07-20T09:24:11.736742Z"
    },
    "papermill": {
     "duration": 1.178986,
     "end_time": "2022-07-20T09:24:11.741737",
     "exception": false,
     "start_time": "2022-07-20T09:24:10.562751",
     "status": "completed"
    },
    "tags": []
   },
   "outputs": [
    {
     "ename": "ImportError",
     "evalue": "cannot import name 'PATH_OUTPUT_DATA' from 'relative_path' (/Users/mavwong/Desktop/Github/SpotifyDataAnalysis/relative_path.py)",
     "output_type": "error",
     "traceback": [
      "\u001b[0;31m---------------------------------------------------------------------------\u001b[0m",
      "\u001b[0;31mImportError\u001b[0m                               Traceback (most recent call last)",
      "Cell \u001b[0;32mIn[1], line 3\u001b[0m\n\u001b[1;32m      1\u001b[0m \u001b[39mimport\u001b[39;00m \u001b[39mpandas\u001b[39;00m \u001b[39mas\u001b[39;00m \u001b[39mpd\u001b[39;00m\n\u001b[0;32m----> 3\u001b[0m \u001b[39mfrom\u001b[39;00m \u001b[39mrelative_path\u001b[39;00m \u001b[39mimport\u001b[39;00m PATH_DATA, PATH_OUTPUT_DATA, PATH_OUTPUT_GRAPH, PATH_OUTPUT_PROF\n\u001b[1;32m      4\u001b[0m \u001b[39mfrom\u001b[39;00m \u001b[39mrelative_path\u001b[39;00m \u001b[39mimport\u001b[39;00m TRACK_DATA, ARTIST_DATA, FEATURE_COLS, PROCESSED_FEATURE_DATA, OUTPUT_TRANSFORM\n\u001b[1;32m      6\u001b[0m \u001b[39mfrom\u001b[39;00m \u001b[39mpandas\u001b[39;00m \u001b[39mimport\u001b[39;00m DataFrame, Series\n",
      "\u001b[0;31mImportError\u001b[0m: cannot import name 'PATH_OUTPUT_DATA' from 'relative_path' (/Users/mavwong/Desktop/Github/SpotifyDataAnalysis/relative_path.py)"
     ]
    }
   ],
   "source": [
    "import pandas as pd\n",
    "\n",
    "from relative_path import PATH_DATA, PATH_OUTPUT_DATA, PATH_OUTPUT_GRAPH, PATH_OUTPUT_PROF\n",
    "from relative_path import TRACK_DATA, ARTIST_DATA, FEATURE_COLS, PROCESSED_FEATURE_DATA, OUTPUT_TRANSFORM\n",
    "\n",
    "from pandas import DataFrame, Series\n",
    "from typing import List, Dict\n",
    "\n",
    "from data_preprocessing import isolate_columns, preprocess_df\n",
    "\n",
    "import seaborn as sns\n",
    "import numpy as np"
   ]
  },
  {
   "attachments": {},
   "cell_type": "markdown",
   "id": "fda32b01",
   "metadata": {},
   "source": [
    "## Standard"
   ]
  },
  {
   "cell_type": "code",
   "execution_count": 2,
   "id": "608ee07e",
   "metadata": {},
   "outputs": [],
   "source": [
    "df_tracks =     pd.read_parquet(TRACK_DATA)\n",
    "df_artists =    pd.read_parquet(ARTIST_DATA)\n",
    "\n",
    "# Separate the main criterias from its features.\n",
    "dfp_tracks, dfp_features = isolate_columns(df_tracks, FEATURE_COLS)"
   ]
  },
  {
   "attachments": {},
   "cell_type": "markdown",
   "id": "99b20d0b",
   "metadata": {},
   "source": [
    "## Renaming"
   ]
  },
  {
   "cell_type": "code",
   "execution_count": 3,
   "id": "8e46e9ff",
   "metadata": {},
   "outputs": [],
   "source": [
    "# Preprocess Dataframe - sorting and re-indexing\n",
    "dfp_tracks = preprocess_df(dfp_tracks, sort_by=\"popularity\")\n",
    "dfp_artists = preprocess_df(df_artists, sort_by=\"popularity\")\n",
    "\n",
    "# Rename column\n",
    "dfp_tracks.rename(columns = {\"id\":\"track_id\", \"name\":\"track_name\", \"popularity\": \"track_popularity\", \"artists\":\"artist_name\", \"id_artists\":\"artist_id\"}, inplace=True)\n",
    "dfp_artists.rename(columns = {\"id\":\"artist_id\", \"name\":\"artist_name\", \"popularity\": \"artist_popularity\", \"followers\":\"artist_followers\"}, inplace=True)\n",
    "dfp_features.rename(columns = {\"id\":\"track_id\"}, inplace=True)"
   ]
  },
  {
   "attachments": {},
   "cell_type": "markdown",
   "id": "3d5bafc4",
   "metadata": {},
   "source": [
    "## Changing Datatypes"
   ]
  },
  {
   "cell_type": "code",
   "execution_count": 4,
   "id": "2fa984cf",
   "metadata": {},
   "outputs": [],
   "source": [
    "# Checking and processing the DATATYPES. \n",
    "dfp_tracks[\"dates\"] = pd.to_datetime(dfp_tracks[\"release_date\"])\n",
    "dfp_tracks[\"release_date\"] = pd.to_datetime(dfp_tracks[\"release_date\"])\n",
    "dfp_tracks[\"year\"]=dfp_tracks[\"release_date\"].dt.year\n",
    "\n",
    "dfp_tracks.drop(['release_date', 'dates'], axis=1, inplace=True)"
   ]
  },
  {
   "cell_type": "code",
   "execution_count": 5,
   "id": "74097ce5",
   "metadata": {},
   "outputs": [],
   "source": [
    "# Process Data - Remove popularity values that less than 20. Too much data - distorts the distribution. \n",
    "#dfp_tracks = dfp_tracks[dfp_tracks[\"track_popularity\"] >= 20]\n",
    "#dfp_artists = dfp_artists[dfp_artists[\"artist_popularity\"] >= 20]"
   ]
  },
  {
   "cell_type": "code",
   "execution_count": 7,
   "id": "b67ffa46",
   "metadata": {},
   "outputs": [],
   "source": [
    "def remove_characters(string:str, special_char:str = None):\n",
    "    if special_char == None:\n",
    "        special_char = \"@#$*&\"\n",
    "        \n",
    "    lst_special_char = [x for x in special_char]\n",
    "    result = \"\".join(filter(lambda char: char not in lst_special_char , string))\n",
    "    return result\n",
    "\n",
    "\n",
    "def apply_fn_mean_popularity(string:str) -> int:\n",
    "    \"\"\" Returns the total followers amongst the artists within the track. \"\"\"\n",
    "    \n",
    "    # Process list data (str type)\n",
    "    str_process = remove_characters(string, \"[]'\")\n",
    "    str_process = str_process.split(\",\")\n",
    "    artists_ids = [x.strip() for x in str_process]\n",
    "    \n",
    "    # Loop through the artist ids\n",
    "    popularity_list = []\n",
    "    for artist_id in artists_ids:\n",
    "        match_df = dfp_artists.loc[dfp_artists[\"artist_id\"]==artist_id]\n",
    "        match_lst = match_df[\"artist_popularity\"].tolist()\n",
    "        \n",
    "        if match_lst==[] or match_lst==np.NaN:\n",
    "            return 0\n",
    "        \n",
    "        for follower in match_lst: popularity_list.append(follower)\n",
    "    return np.mean(popularity_list)\n",
    "\n",
    "\n",
    "\n",
    "def apply_fn_total_followers(string:str) -> int:\n",
    "    \"\"\" Returns the total followers amongst the artists within the track. \"\"\"\n",
    "    \n",
    "    # Process list data (str type)\n",
    "    str_process = remove_characters(string, \"[]'\")\n",
    "    str_process = str_process.split(\",\")\n",
    "    artists_ids = [x.strip() for x in str_process]\n",
    "    \n",
    "    # Loop through the artist ids\n",
    "    followers_list = []\n",
    "    for artist_id in artists_ids:\n",
    "        match_df = dfp_artists.loc[dfp_artists[\"artist_id\"]==artist_id]\n",
    "        match_lst = match_df[\"artist_followers\"].tolist()\n",
    "        \n",
    "        if match_lst==[] or match_lst==np.NaN:\n",
    "            return 0\n",
    "        \n",
    "        for follower in match_lst: followers_list.append(follower)\n",
    "    return np.sum(followers_list)"
   ]
  },
  {
   "attachments": {},
   "cell_type": "markdown",
   "id": "43ee7c0e",
   "metadata": {},
   "source": [
    "## Map Total artist followers and Average artist popularity based on the artist_id given in the Tracks Dataset"
   ]
  },
  {
   "cell_type": "code",
   "execution_count": 8,
   "id": "b9805461",
   "metadata": {},
   "outputs": [],
   "source": [
    "dfp_tracks[\"total_followers\"] = dfp_tracks[\"artist_id\"].apply(apply_fn_total_followers)\n",
    "dfp_tracks[\"mean_popularity\"] = dfp_tracks[\"artist_id\"].apply(apply_fn_mean_popularity)"
   ]
  },
  {
   "attachments": {},
   "cell_type": "markdown",
   "id": "5b431b09",
   "metadata": {},
   "source": [
    "## Export: Processed Track File"
   ]
  },
  {
   "cell_type": "code",
   "execution_count": 9,
   "id": "ea52b975",
   "metadata": {},
   "outputs": [],
   "source": [
    "dfp_tracks.to_parquet(\"processed_track.parquet\")"
   ]
  },
  {
   "attachments": {},
   "cell_type": "markdown",
   "id": "092c5a6f",
   "metadata": {},
   "source": [
    "## Processing Again..."
   ]
  },
  {
   "cell_type": "code",
   "execution_count": 9,
   "id": "6866d2bf",
   "metadata": {},
   "outputs": [],
   "source": [
    "from relative_path import OUTPUT_TRANSFORM"
   ]
  },
  {
   "cell_type": "code",
   "execution_count": 10,
   "id": "fab89f34",
   "metadata": {},
   "outputs": [],
   "source": [
    "FILE_PARQUET = OUTPUT_TRANSFORM / \"processed_track.parquet\""
   ]
  },
  {
   "cell_type": "code",
   "execution_count": 11,
   "id": "a484513e",
   "metadata": {},
   "outputs": [],
   "source": [
    "# Reading the tracks data\n",
    "df_tracks_processed = pd.read_parquet(FILE_PARQUET)\n",
    "\n",
    "# Renaming columns\n",
    "df_tracks_processed.rename(columns={\n",
    "        \"total_followers\": \"artist_total_followers\", \n",
    "        \"mean_popularity\": \"artist_mean_popularity\"\n",
    "    }, errors=\"ignore\", inplace=True)"
   ]
  },
  {
   "cell_type": "code",
   "execution_count": 12,
   "id": "581e2fb8",
   "metadata": {},
   "outputs": [],
   "source": [
    "# Apply functions\n",
    "def apply_fn_convert_to_int(input):\n",
    "    \"\"\" Apply function that converts the input into an integer. \n",
    "    Sometimes you can't convert the pandas series datatypes natively. \"\"\"\n",
    "    try:\n",
    "        return int(input)\n",
    "    except:\n",
    "        return 0\n",
    "\n",
    "# Changing the datatypes\n",
    "df_tracks_processed[\"artist_total_followers\"] = df_tracks_processed[\"artist_total_followers\"].apply(apply_fn_convert_to_int)\n",
    "df_tracks_processed[\"artist_mean_popularity\"] = df_tracks_processed[\"artist_mean_popularity\"].astype(\"int\", errors=\"ignore\")"
   ]
  },
  {
   "cell_type": "code",
   "execution_count": 13,
   "id": "cfff678d",
   "metadata": {},
   "outputs": [],
   "source": [
    "# Remove 0 within duration_ms\n",
    "df_tracks_processed = df_tracks_processed[df_tracks_processed[\"duration_ms\"]!=0]\n",
    "\n",
    "# Remove 0 within artist_total_followers\n",
    "df_tracks_processed = df_tracks_processed[df_tracks_processed[\"artist_total_followers\"]!=0]\n",
    "\n",
    "# Remove 0 within artist_mean_popularity\n",
    "df_tracks_processed = df_tracks_processed[df_tracks_processed[\"artist_mean_popularity\"]!=0]\n",
    "\n",
    "# Remove 0 within track_popularity\n",
    "df_tracks_processed = df_tracks_processed[df_tracks_processed[\"track_popularity\"]!=0]\n",
    "\n",
    "# Get only 1920 to 2020 - a 200 year gap\n",
    "df_tracks_processed = df_tracks_processed[(df_tracks_processed[\"year\"] >= 1920) & (df_tracks_processed[\"year\"] != 2021)] "
   ]
  },
  {
   "cell_type": "code",
   "execution_count": 15,
   "id": "4c7f704d",
   "metadata": {},
   "outputs": [],
   "source": [
    "df_tracks_processed.to_parquet(FILE_PARQUET)"
   ]
  },
  {
   "cell_type": "code",
   "execution_count": 16,
   "id": "607bad65",
   "metadata": {},
   "outputs": [
    {
     "data": {
      "text/html": [
       "<div>\n",
       "<style scoped>\n",
       "    .dataframe tbody tr th:only-of-type {\n",
       "        vertical-align: middle;\n",
       "    }\n",
       "\n",
       "    .dataframe tbody tr th {\n",
       "        vertical-align: top;\n",
       "    }\n",
       "\n",
       "    .dataframe thead th {\n",
       "        text-align: right;\n",
       "    }\n",
       "</style>\n",
       "<table border=\"1\" class=\"dataframe\">\n",
       "  <thead>\n",
       "    <tr style=\"text-align: right;\">\n",
       "      <th></th>\n",
       "      <th>track_id</th>\n",
       "      <th>track_name</th>\n",
       "      <th>track_popularity</th>\n",
       "      <th>duration_ms</th>\n",
       "      <th>artist_name</th>\n",
       "      <th>artist_id</th>\n",
       "      <th>year</th>\n",
       "      <th>artist_total_followers</th>\n",
       "      <th>artist_mean_popularity</th>\n",
       "    </tr>\n",
       "  </thead>\n",
       "  <tbody>\n",
       "    <tr>\n",
       "      <th>3</th>\n",
       "      <td>5QO79kh1waicV47BqGRL3g</td>\n",
       "      <td>Save Your Tears</td>\n",
       "      <td>97</td>\n",
       "      <td>215627</td>\n",
       "      <td>['The Weeknd']</td>\n",
       "      <td>['1Xyo4u8uXC1ZmMpatF05PJ']</td>\n",
       "      <td>2020</td>\n",
       "      <td>31308207</td>\n",
       "      <td>96</td>\n",
       "    </tr>\n",
       "    <tr>\n",
       "      <th>4</th>\n",
       "      <td>6tDDoYIxWvMLTdKpjFkc1B</td>\n",
       "      <td>telepatía</td>\n",
       "      <td>97</td>\n",
       "      <td>160191</td>\n",
       "      <td>['Kali Uchis']</td>\n",
       "      <td>['1U1el3k54VvEUzo3ybLPlM']</td>\n",
       "      <td>2020</td>\n",
       "      <td>1698014</td>\n",
       "      <td>88</td>\n",
       "    </tr>\n",
       "    <tr>\n",
       "      <th>6</th>\n",
       "      <td>0VjIjW4GlUZAMYd2vXMi3b</td>\n",
       "      <td>Blinding Lights</td>\n",
       "      <td>96</td>\n",
       "      <td>200040</td>\n",
       "      <td>['The Weeknd']</td>\n",
       "      <td>['1Xyo4u8uXC1ZmMpatF05PJ']</td>\n",
       "      <td>2020</td>\n",
       "      <td>31308207</td>\n",
       "      <td>96</td>\n",
       "    </tr>\n",
       "    <tr>\n",
       "      <th>7</th>\n",
       "      <td>6f3Slt0GbA2bPZlz0aIFXN</td>\n",
       "      <td>The Business</td>\n",
       "      <td>95</td>\n",
       "      <td>164000</td>\n",
       "      <td>['Tiësto']</td>\n",
       "      <td>['2o5jDhtHVPhrJdv3cEQ99Z']</td>\n",
       "      <td>2020</td>\n",
       "      <td>5527032</td>\n",
       "      <td>87</td>\n",
       "    </tr>\n",
       "    <tr>\n",
       "      <th>8</th>\n",
       "      <td>3FAJ6O0NOHQV8Mc5Ri6ENp</td>\n",
       "      <td>Heartbreak Anniversary</td>\n",
       "      <td>94</td>\n",
       "      <td>198371</td>\n",
       "      <td>['Giveon']</td>\n",
       "      <td>['4fxd5Ee7UefO4CUXgwJ7IP']</td>\n",
       "      <td>2020</td>\n",
       "      <td>946550</td>\n",
       "      <td>91</td>\n",
       "    </tr>\n",
       "    <tr>\n",
       "      <th>...</th>\n",
       "      <td>...</td>\n",
       "      <td>...</td>\n",
       "      <td>...</td>\n",
       "      <td>...</td>\n",
       "      <td>...</td>\n",
       "      <td>...</td>\n",
       "      <td>...</td>\n",
       "      <td>...</td>\n",
       "      <td>...</td>\n",
       "    </tr>\n",
       "    <tr>\n",
       "      <th>541977</th>\n",
       "      <td>4HxvIdH92INqp7Fj1SllFW</td>\n",
       "      <td>Kal Talak Hum Theek Tha</td>\n",
       "      <td>1</td>\n",
       "      <td>203907</td>\n",
       "      <td>['Geeta Dutt', 'Mohammed Rafi']</td>\n",
       "      <td>['0QsbYX8XslSSUcztc6u4pO', '0gXDpqwYNDODn7fB0R...</td>\n",
       "      <td>1958</td>\n",
       "      <td>2445150</td>\n",
       "      <td>54</td>\n",
       "    </tr>\n",
       "    <tr>\n",
       "      <th>541978</th>\n",
       "      <td>7uFR8iwOoC2pdPV9bFogSG</td>\n",
       "      <td>I'm putting all my eggs in one basket</td>\n",
       "      <td>1</td>\n",
       "      <td>166422</td>\n",
       "      <td>['The Boswell Sisters']</td>\n",
       "      <td>['2mflSlnegn3rBmzsh08OcN']</td>\n",
       "      <td>1931</td>\n",
       "      <td>15936</td>\n",
       "      <td>36</td>\n",
       "    </tr>\n",
       "    <tr>\n",
       "      <th>541979</th>\n",
       "      <td>5EoIeGRaeGBFkcdBAtHv6D</td>\n",
       "      <td>Maalaiyittu Manamudichu</td>\n",
       "      <td>1</td>\n",
       "      <td>193093</td>\n",
       "      <td>['Jamuna Rani']</td>\n",
       "      <td>['1UwFdPnfr7JcxV9D1Ln8zu']</td>\n",
       "      <td>1958</td>\n",
       "      <td>3056</td>\n",
       "      <td>27</td>\n",
       "    </tr>\n",
       "    <tr>\n",
       "      <th>541980</th>\n",
       "      <td>6sZvCShbUUg05tlxbrEiTn</td>\n",
       "      <td>你還不走過來</td>\n",
       "      <td>1</td>\n",
       "      <td>170507</td>\n",
       "      <td>['Ying Yin Wu']</td>\n",
       "      <td>['4Id8e7ATmAtOVCX9S0Jc0F']</td>\n",
       "      <td>1940</td>\n",
       "      <td>1494</td>\n",
       "      <td>25</td>\n",
       "    </tr>\n",
       "    <tr>\n",
       "      <th>541981</th>\n",
       "      <td>1VjEkXcRsml6OwmqPLvfsd</td>\n",
       "      <td>Lara Lappa Lara Lappa Laai, Pt. 2</td>\n",
       "      <td>1</td>\n",
       "      <td>360827</td>\n",
       "      <td>['Lata Mangeshkar', 'Mohammed Rafi', 'G. M. Du...</td>\n",
       "      <td>['61JrslREXq98hurYL2hYoc', '0gXDpqwYNDODn7fB0R...</td>\n",
       "      <td>1949</td>\n",
       "      <td>4750193</td>\n",
       "      <td>45</td>\n",
       "    </tr>\n",
       "  </tbody>\n",
       "</table>\n",
       "<p>518068 rows × 9 columns</p>\n",
       "</div>"
      ],
      "text/plain": [
       "                      track_id                             track_name  \\\n",
       "3       5QO79kh1waicV47BqGRL3g                        Save Your Tears   \n",
       "4       6tDDoYIxWvMLTdKpjFkc1B                              telepatía   \n",
       "6       0VjIjW4GlUZAMYd2vXMi3b                        Blinding Lights   \n",
       "7       6f3Slt0GbA2bPZlz0aIFXN                           The Business   \n",
       "8       3FAJ6O0NOHQV8Mc5Ri6ENp                 Heartbreak Anniversary   \n",
       "...                        ...                                    ...   \n",
       "541977  4HxvIdH92INqp7Fj1SllFW                Kal Talak Hum Theek Tha   \n",
       "541978  7uFR8iwOoC2pdPV9bFogSG  I'm putting all my eggs in one basket   \n",
       "541979  5EoIeGRaeGBFkcdBAtHv6D                Maalaiyittu Manamudichu   \n",
       "541980  6sZvCShbUUg05tlxbrEiTn                                 你還不走過來   \n",
       "541981  1VjEkXcRsml6OwmqPLvfsd      Lara Lappa Lara Lappa Laai, Pt. 2   \n",
       "\n",
       "        track_popularity  duration_ms  \\\n",
       "3                     97       215627   \n",
       "4                     97       160191   \n",
       "6                     96       200040   \n",
       "7                     95       164000   \n",
       "8                     94       198371   \n",
       "...                  ...          ...   \n",
       "541977                 1       203907   \n",
       "541978                 1       166422   \n",
       "541979                 1       193093   \n",
       "541980                 1       170507   \n",
       "541981                 1       360827   \n",
       "\n",
       "                                              artist_name  \\\n",
       "3                                          ['The Weeknd']   \n",
       "4                                          ['Kali Uchis']   \n",
       "6                                          ['The Weeknd']   \n",
       "7                                              ['Tiësto']   \n",
       "8                                              ['Giveon']   \n",
       "...                                                   ...   \n",
       "541977                    ['Geeta Dutt', 'Mohammed Rafi']   \n",
       "541978                            ['The Boswell Sisters']   \n",
       "541979                                    ['Jamuna Rani']   \n",
       "541980                                    ['Ying Yin Wu']   \n",
       "541981  ['Lata Mangeshkar', 'Mohammed Rafi', 'G. M. Du...   \n",
       "\n",
       "                                                artist_id  year  \\\n",
       "3                              ['1Xyo4u8uXC1ZmMpatF05PJ']  2020   \n",
       "4                              ['1U1el3k54VvEUzo3ybLPlM']  2020   \n",
       "6                              ['1Xyo4u8uXC1ZmMpatF05PJ']  2020   \n",
       "7                              ['2o5jDhtHVPhrJdv3cEQ99Z']  2020   \n",
       "8                              ['4fxd5Ee7UefO4CUXgwJ7IP']  2020   \n",
       "...                                                   ...   ...   \n",
       "541977  ['0QsbYX8XslSSUcztc6u4pO', '0gXDpqwYNDODn7fB0R...  1958   \n",
       "541978                         ['2mflSlnegn3rBmzsh08OcN']  1931   \n",
       "541979                         ['1UwFdPnfr7JcxV9D1Ln8zu']  1958   \n",
       "541980                         ['4Id8e7ATmAtOVCX9S0Jc0F']  1940   \n",
       "541981  ['61JrslREXq98hurYL2hYoc', '0gXDpqwYNDODn7fB0R...  1949   \n",
       "\n",
       "        artist_total_followers  artist_mean_popularity  \n",
       "3                     31308207                      96  \n",
       "4                      1698014                      88  \n",
       "6                     31308207                      96  \n",
       "7                      5527032                      87  \n",
       "8                       946550                      91  \n",
       "...                        ...                     ...  \n",
       "541977                 2445150                      54  \n",
       "541978                   15936                      36  \n",
       "541979                    3056                      27  \n",
       "541980                    1494                      25  \n",
       "541981                 4750193                      45  \n",
       "\n",
       "[518068 rows x 9 columns]"
      ]
     },
     "execution_count": 16,
     "metadata": {},
     "output_type": "execute_result"
    }
   ],
   "source": [
    "df_tracks_processed"
   ]
  },
  {
   "cell_type": "code",
   "execution_count": null,
   "id": "2e4ed830",
   "metadata": {},
   "outputs": [],
   "source": []
  }
 ],
 "metadata": {
  "kernelspec": {
   "display_name": "Python 3",
   "language": "python",
   "name": "python3"
  },
  "language_info": {
   "codemirror_mode": {
    "name": "ipython",
    "version": 3
   },
   "file_extension": ".py",
   "mimetype": "text/x-python",
   "name": "python",
   "nbconvert_exporter": "python",
   "pygments_lexer": "ipython3",
   "version": "3.9.1 (v3.9.1:1e5d33e9b9, Dec  7 2020, 12:10:52) \n[Clang 6.0 (clang-600.0.57)]"
  },
  "papermill": {
   "default_parameters": {},
   "duration": 49.860583,
   "end_time": "2022-07-20T09:24:50.187926",
   "environment_variables": {},
   "exception": null,
   "input_path": "__notebook__.ipynb",
   "output_path": "__notebook__.ipynb",
   "parameters": {},
   "start_time": "2022-07-20T09:24:00.327343",
   "version": "2.3.4"
  },
  "vscode": {
   "interpreter": {
    "hash": "aee8b7b246df8f9039afb4144a1f6fd8d2ca17a180786b69acc140d282b71a49"
   }
  }
 },
 "nbformat": 4,
 "nbformat_minor": 5
}
