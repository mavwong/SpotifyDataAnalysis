{
 "cells": [
  {
   "cell_type": "code",
   "execution_count": 1,
   "id": "a78bb2d0",
   "metadata": {
    "execution": {
     "iopub.execute_input": "2022-07-20T09:24:10.574643Z",
     "iopub.status.busy": "2022-07-20T09:24:10.574211Z",
     "iopub.status.idle": "2022-07-20T09:24:11.737892Z",
     "shell.execute_reply": "2022-07-20T09:24:11.736742Z"
    },
    "papermill": {
     "duration": 1.178986,
     "end_time": "2022-07-20T09:24:11.741737",
     "exception": false,
     "start_time": "2022-07-20T09:24:10.562751",
     "status": "completed"
    },
    "tags": []
   },
   "outputs": [],
   "source": [
    "import pandas as pd\n",
    "\n",
    "from relative_path import PATH_DATA, PATH_OUTPUT_DATA, PATH_OUTPUT_GRAPH, PATH_OUTPUT_PROF\n",
    "from relative_path import TRACK_DATA, ARTIST_DATA, FEATURE_COLS, PROCESSED_FEATURE_DATA\n",
    "\n",
    "from pandas import DataFrame, Series\n",
    "from typing import List, Dict\n",
    "\n",
    "from data_preprocessing import isolate_columns, preprocess_df\n",
    "\n",
    "import seaborn as sns\n",
    "import numpy as np"
   ]
  },
  {
   "attachments": {},
   "cell_type": "markdown",
   "id": "fda32b01",
   "metadata": {},
   "source": [
    "## Standard"
   ]
  },
  {
   "cell_type": "code",
   "execution_count": 2,
   "id": "608ee07e",
   "metadata": {},
   "outputs": [],
   "source": [
    "df_tracks =     pd.read_parquet(TRACK_DATA)\n",
    "df_artists =    pd.read_parquet(ARTIST_DATA)\n",
    "\n",
    "# Separate the main criterias from its features.\n",
    "dfp_tracks, dfp_features = isolate_columns(df_tracks, FEATURE_COLS)"
   ]
  },
  {
   "cell_type": "code",
   "execution_count": 3,
   "id": "8e46e9ff",
   "metadata": {},
   "outputs": [],
   "source": [
    "# Preprocess Dataframe - sorting and re-indexing\n",
    "dfp_tracks = preprocess_df(dfp_tracks, sort_by=\"popularity\")\n",
    "dfp_artists = preprocess_df(df_artists, sort_by=\"popularity\")\n",
    "\n",
    "# Rename column\n",
    "dfp_tracks.rename(columns = {\"id\":\"track_id\", \"name\":\"track_name\", \"popularity\": \"track_popularity\", \"artists\":\"artist_name\", \"id_artists\":\"artist_id\"}, inplace=True)\n",
    "dfp_artists.rename(columns = {\"id\":\"artist_id\", \"name\":\"artist_name\", \"popularity\": \"artist_popularity\", \"followers\":\"artist_followers\"}, inplace=True)\n",
    "dfp_features.rename(columns = {\"id\":\"track_id\"}, inplace=True)"
   ]
  },
  {
   "cell_type": "code",
   "execution_count": 4,
   "id": "2fa984cf",
   "metadata": {},
   "outputs": [],
   "source": [
    "# Checking and processing the DATATYPES. \n",
    "dfp_tracks[\"dates\"] = pd.to_datetime(dfp_tracks[\"release_date\"])\n",
    "dfp_tracks[\"release_date\"] = pd.to_datetime(dfp_tracks[\"release_date\"])\n",
    "dfp_tracks[\"year\"]=dfp_tracks[\"release_date\"].dt.year\n",
    "\n",
    "dfp_tracks.drop(['release_date', 'dates'], axis=1, inplace=True)"
   ]
  },
  {
   "cell_type": "code",
   "execution_count": 5,
   "id": "74097ce5",
   "metadata": {},
   "outputs": [],
   "source": [
    "# Process Data - Remove popularity values that less than 20. Too much data - distorts the distribution. \n",
    "#dfp_tracks = dfp_tracks[dfp_tracks[\"track_popularity\"] >= 20]\n",
    "#dfp_artists = dfp_artists[dfp_artists[\"artist_popularity\"] >= 20]"
   ]
  },
  {
   "cell_type": "code",
   "execution_count": 6,
   "id": "9d23998e",
   "metadata": {},
   "outputs": [],
   "source": [
    "### Track Dataframe\n",
    "# Track Popularity over time / year - distribution, boxplot. (Render the top 10, 100 and 1000, )\n",
    "# Extract - Top solo artists vs Top various artists\n",
    "\n",
    "### Artists Dataframe\n",
    "# Artist Popularity over Artist Followers\n",
    "# Frequency of genres, relative to the top artist. (Top 10% and Top 25%, Top 10 and 100)\n",
    "\n",
    "\n",
    "###  Combination of Track and Artists Dataframe\n",
    "# Track Popularity over Total Artists Followers, Track Popularity over Average Artists Popularity"
   ]
  },
  {
   "cell_type": "code",
   "execution_count": 46,
   "id": "b67ffa46",
   "metadata": {},
   "outputs": [],
   "source": [
    "def remove_characters(string:str, special_char:str = None):\n",
    "    if special_char == None:\n",
    "        special_char = \"@#$*&\"\n",
    "        \n",
    "    lst_special_char = [x for x in special_char]\n",
    "    result = \"\".join(filter(lambda char: char not in lst_special_char , string))\n",
    "    return result\n",
    "\n",
    "\n",
    "def apply_fn_mean_popularity(string:str) -> int:\n",
    "    \"\"\" Returns the total followers amongst the artists within the track. \"\"\"\n",
    "    \n",
    "    # Process list data (str type)\n",
    "    str_process = remove_characters(string, \"[]'\")\n",
    "    str_process = str_process.split(\",\")\n",
    "    artists_ids = [x.strip() for x in str_process]\n",
    "    \n",
    "    # Loop through the artist ids\n",
    "    popularity_list = []\n",
    "    for artist_id in artists_ids:\n",
    "        match_df = dfp_artists.loc[dfp_artists[\"artist_id\"]==artist_id]\n",
    "        match_lst = match_df[\"artist_popularity\"].tolist()\n",
    "        \n",
    "        if match_lst==[] or match_lst==np.NaN:\n",
    "            return 0\n",
    "        \n",
    "        for follower in match_lst: popularity_list.append(follower)\n",
    "    return np.mean(popularity_list)\n",
    "\n",
    "\n",
    "\n",
    "def apply_fn_total_followers(string:str) -> int:\n",
    "    \"\"\" Returns the total followers amongst the artists within the track. \"\"\"\n",
    "    \n",
    "    # Process list data (str type)\n",
    "    str_process = remove_characters(string, \"[]'\")\n",
    "    str_process = str_process.split(\",\")\n",
    "    artists_ids = [x.strip() for x in str_process]\n",
    "    \n",
    "    # Loop through the artist ids\n",
    "    followers_list = []\n",
    "    for artist_id in artists_ids:\n",
    "        match_df = dfp_artists.loc[dfp_artists[\"artist_id\"]==artist_id]\n",
    "        match_lst = match_df[\"artist_followers\"].tolist()\n",
    "        \n",
    "        if match_lst==[] or match_lst==np.NaN:\n",
    "            return 0\n",
    "        \n",
    "        for follower in match_lst: followers_list.append(follower)\n",
    "    return np.sum(followers_list)"
   ]
  },
  {
   "cell_type": "code",
   "execution_count": 47,
   "id": "b9805461",
   "metadata": {},
   "outputs": [
    {
     "ename": "ValueError",
     "evalue": "cannot convert float NaN to integer",
     "output_type": "error",
     "traceback": [
      "\u001b[0;31m---------------------------------------------------------------------------\u001b[0m",
      "\u001b[0;31mValueError\u001b[0m                                Traceback (most recent call last)",
      "Cell \u001b[0;32mIn[47], line 1\u001b[0m\n\u001b[0;32m----> 1\u001b[0m dfp_tracks[\u001b[39m\"\u001b[39m\u001b[39mtotal_followers\u001b[39m\u001b[39m\"\u001b[39m] \u001b[39m=\u001b[39m dfp_tracks[\u001b[39m\"\u001b[39;49m\u001b[39martist_id\u001b[39;49m\u001b[39m\"\u001b[39;49m]\u001b[39m.\u001b[39;49mapply(test)\n",
      "File \u001b[0;32m/Library/Frameworks/Python.framework/Versions/3.9/lib/python3.9/site-packages/pandas/core/series.py:4357\u001b[0m, in \u001b[0;36mSeries.apply\u001b[0;34m(self, func, convert_dtype, args, **kwargs)\u001b[0m\n\u001b[1;32m   4247\u001b[0m \u001b[39mdef\u001b[39;00m \u001b[39mapply\u001b[39m(\n\u001b[1;32m   4248\u001b[0m     \u001b[39mself\u001b[39m,\n\u001b[1;32m   4249\u001b[0m     func: AggFuncType,\n\u001b[0;32m   (...)\u001b[0m\n\u001b[1;32m   4252\u001b[0m     \u001b[39m*\u001b[39m\u001b[39m*\u001b[39mkwargs,\n\u001b[1;32m   4253\u001b[0m ) \u001b[39m-\u001b[39m\u001b[39m>\u001b[39m FrameOrSeriesUnion:\n\u001b[1;32m   4254\u001b[0m     \u001b[39m\"\"\"\u001b[39;00m\n\u001b[1;32m   4255\u001b[0m \u001b[39m    Invoke function on values of Series.\u001b[39;00m\n\u001b[1;32m   4256\u001b[0m \n\u001b[0;32m   (...)\u001b[0m\n\u001b[1;32m   4355\u001b[0m \u001b[39m    dtype: float64\u001b[39;00m\n\u001b[1;32m   4356\u001b[0m \u001b[39m    \"\"\"\u001b[39;00m\n\u001b[0;32m-> 4357\u001b[0m     \u001b[39mreturn\u001b[39;00m SeriesApply(\u001b[39mself\u001b[39;49m, func, convert_dtype, args, kwargs)\u001b[39m.\u001b[39;49mapply()\n",
      "File \u001b[0;32m/Library/Frameworks/Python.framework/Versions/3.9/lib/python3.9/site-packages/pandas/core/apply.py:1043\u001b[0m, in \u001b[0;36mSeriesApply.apply\u001b[0;34m(self)\u001b[0m\n\u001b[1;32m   1039\u001b[0m \u001b[39mif\u001b[39;00m \u001b[39misinstance\u001b[39m(\u001b[39mself\u001b[39m\u001b[39m.\u001b[39mf, \u001b[39mstr\u001b[39m):\n\u001b[1;32m   1040\u001b[0m     \u001b[39m# if we are a string, try to dispatch\u001b[39;00m\n\u001b[1;32m   1041\u001b[0m     \u001b[39mreturn\u001b[39;00m \u001b[39mself\u001b[39m\u001b[39m.\u001b[39mapply_str()\n\u001b[0;32m-> 1043\u001b[0m \u001b[39mreturn\u001b[39;00m \u001b[39mself\u001b[39;49m\u001b[39m.\u001b[39;49mapply_standard()\n",
      "File \u001b[0;32m/Library/Frameworks/Python.framework/Versions/3.9/lib/python3.9/site-packages/pandas/core/apply.py:1098\u001b[0m, in \u001b[0;36mSeriesApply.apply_standard\u001b[0;34m(self)\u001b[0m\n\u001b[1;32m   1092\u001b[0m         values \u001b[39m=\u001b[39m obj\u001b[39m.\u001b[39mastype(\u001b[39mobject\u001b[39m)\u001b[39m.\u001b[39m_values\n\u001b[1;32m   1093\u001b[0m         \u001b[39m# error: Argument 2 to \"map_infer\" has incompatible type\u001b[39;00m\n\u001b[1;32m   1094\u001b[0m         \u001b[39m# \"Union[Callable[..., Any], str, List[Union[Callable[..., Any], str]],\u001b[39;00m\n\u001b[1;32m   1095\u001b[0m         \u001b[39m# Dict[Hashable, Union[Union[Callable[..., Any], str],\u001b[39;00m\n\u001b[1;32m   1096\u001b[0m         \u001b[39m# List[Union[Callable[..., Any], str]]]]]\"; expected\u001b[39;00m\n\u001b[1;32m   1097\u001b[0m         \u001b[39m# \"Callable[[Any], Any]\"\u001b[39;00m\n\u001b[0;32m-> 1098\u001b[0m         mapped \u001b[39m=\u001b[39m lib\u001b[39m.\u001b[39;49mmap_infer(\n\u001b[1;32m   1099\u001b[0m             values,\n\u001b[1;32m   1100\u001b[0m             f,  \u001b[39m# type: ignore[arg-type]\u001b[39;49;00m\n\u001b[1;32m   1101\u001b[0m             convert\u001b[39m=\u001b[39;49m\u001b[39mself\u001b[39;49m\u001b[39m.\u001b[39;49mconvert_dtype,\n\u001b[1;32m   1102\u001b[0m         )\n\u001b[1;32m   1104\u001b[0m \u001b[39mif\u001b[39;00m \u001b[39mlen\u001b[39m(mapped) \u001b[39mand\u001b[39;00m \u001b[39misinstance\u001b[39m(mapped[\u001b[39m0\u001b[39m], ABCSeries):\n\u001b[1;32m   1105\u001b[0m     \u001b[39m# GH 25959 use pd.array instead of tolist\u001b[39;00m\n\u001b[1;32m   1106\u001b[0m     \u001b[39m# so extension arrays can be used\u001b[39;00m\n\u001b[1;32m   1107\u001b[0m     \u001b[39mreturn\u001b[39;00m obj\u001b[39m.\u001b[39m_constructor_expanddim(pd_array(mapped), index\u001b[39m=\u001b[39mobj\u001b[39m.\u001b[39mindex)\n",
      "File \u001b[0;32m/Library/Frameworks/Python.framework/Versions/3.9/lib/python3.9/site-packages/pandas/_libs/lib.pyx:2859\u001b[0m, in \u001b[0;36mpandas._libs.lib.map_infer\u001b[0;34m()\u001b[0m\n",
      "Cell \u001b[0;32mIn[46], line 20\u001b[0m, in \u001b[0;36mtest\u001b[0;34m(string)\u001b[0m\n\u001b[1;32m     16\u001b[0m         \u001b[39mreturn\u001b[39;00m \u001b[39m0\u001b[39m\n\u001b[1;32m     18\u001b[0m     \u001b[39mfor\u001b[39;00m follower \u001b[39min\u001b[39;00m match_lst: followers_list\u001b[39m.\u001b[39mappend(follower)\n\u001b[0;32m---> 20\u001b[0m \u001b[39mreturn\u001b[39;00m \u001b[39mint\u001b[39;49m(np\u001b[39m.\u001b[39;49msum(followers_list))\n",
      "\u001b[0;31mValueError\u001b[0m: cannot convert float NaN to integer"
     ]
    }
   ],
   "source": [
    "dfp_tracks[\"total_followers\"] = dfp_tracks[\"artist_id\"].apply(apply_fn_total_followers)"
   ]
  },
  {
   "cell_type": "code",
   "execution_count": null,
   "id": "d435318b",
   "metadata": {},
   "outputs": [],
   "source": [
    "dfp_tracks[\"mean_popularity\"] = dfp_tracks[\"artist_id\"].apply(apply_fn_total_followers)"
   ]
  },
  {
   "cell_type": "code",
   "execution_count": null,
   "id": "dcdaa626",
   "metadata": {},
   "outputs": [],
   "source": [
    "dfp_tracks.to_parquet(\"processed_track.parquet\")"
   ]
  }
 ],
 "metadata": {
  "kernelspec": {
   "display_name": "Python 3",
   "language": "python",
   "name": "python3"
  },
  "language_info": {
   "codemirror_mode": {
    "name": "ipython",
    "version": 3
   },
   "file_extension": ".py",
   "mimetype": "text/x-python",
   "name": "python",
   "nbconvert_exporter": "python",
   "pygments_lexer": "ipython3",
   "version": "3.9.1"
  },
  "papermill": {
   "default_parameters": {},
   "duration": 49.860583,
   "end_time": "2022-07-20T09:24:50.187926",
   "environment_variables": {},
   "exception": null,
   "input_path": "__notebook__.ipynb",
   "output_path": "__notebook__.ipynb",
   "parameters": {},
   "start_time": "2022-07-20T09:24:00.327343",
   "version": "2.3.4"
  },
  "vscode": {
   "interpreter": {
    "hash": "aee8b7b246df8f9039afb4144a1f6fd8d2ca17a180786b69acc140d282b71a49"
   }
  }
 },
 "nbformat": 4,
 "nbformat_minor": 5
}
