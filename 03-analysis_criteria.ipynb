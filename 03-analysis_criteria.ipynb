{
 "cells": [
  {
   "cell_type": "code",
   "execution_count": 2,
   "id": "a78bb2d0",
   "metadata": {
    "execution": {
     "iopub.execute_input": "2022-07-20T09:24:10.574643Z",
     "iopub.status.busy": "2022-07-20T09:24:10.574211Z",
     "iopub.status.idle": "2022-07-20T09:24:11.737892Z",
     "shell.execute_reply": "2022-07-20T09:24:11.736742Z"
    },
    "papermill": {
     "duration": 1.178986,
     "end_time": "2022-07-20T09:24:11.741737",
     "exception": false,
     "start_time": "2022-07-20T09:24:10.562751",
     "status": "completed"
    },
    "tags": []
   },
   "outputs": [
    {
     "ename": "ImportError",
     "evalue": "cannot import name 'isolate_columns' from 'data_processing' (/Users/mavwong/Desktop/Github/SpotifyDataAnalysis/data_processing.py)",
     "output_type": "error",
     "traceback": [
      "\u001b[0;31m---------------------------------------------------------------------------\u001b[0m",
      "\u001b[0;31mImportError\u001b[0m                               Traceback (most recent call last)",
      "Cell \u001b[0;32mIn[2], line 9\u001b[0m\n\u001b[1;32m      6\u001b[0m \u001b[39mfrom\u001b[39;00m \u001b[39mpandas\u001b[39;00m \u001b[39mimport\u001b[39;00m DataFrame, Series\n\u001b[1;32m      7\u001b[0m \u001b[39mfrom\u001b[39;00m \u001b[39mtyping\u001b[39;00m \u001b[39mimport\u001b[39;00m List, Dict\n\u001b[0;32m----> 9\u001b[0m \u001b[39mfrom\u001b[39;00m \u001b[39mdata_processing\u001b[39;00m \u001b[39mimport\u001b[39;00m isolate_columns\n",
      "\u001b[0;31mImportError\u001b[0m: cannot import name 'isolate_columns' from 'data_processing' (/Users/mavwong/Desktop/Github/SpotifyDataAnalysis/data_processing.py)"
     ]
    }
   ],
   "source": [
    "import pandas as pd\n",
    "\n",
    "from relative_path import PATH_DATA, PATH_OUTPUT_DATA, PATH_OUTPUT_GRAPH, PATH_OUTPUT_PROF\n",
    "from relative_path import TRACK_DATA, ARTIST_DATA, FEATURE_COLS\n",
    "\n",
    "from pandas import DataFrame, Series\n",
    "from typing import List, Dict\n",
    "\n",
    "from data_processing import isolate_columns"
   ]
  },
  {
   "attachments": {},
   "cell_type": "markdown",
   "id": "fda32b01",
   "metadata": {},
   "source": [
    "## Standard"
   ]
  },
  {
   "cell_type": "code",
   "execution_count": 3,
   "id": "608ee07e",
   "metadata": {},
   "outputs": [],
   "source": [
    "df_tracks =     pd.read_parquet(TRACK_DATA)\n",
    "df_artists =    pd.read_parquet(ARTIST_DATA)"
   ]
  },
  {
   "cell_type": "code",
   "execution_count": null,
   "id": "1165698c",
   "metadata": {},
   "outputs": [
    {
     "ename": "NameError",
     "evalue": "name 'isolate_columns' is not defined",
     "output_type": "error",
     "traceback": [
      "\u001b[0;31m---------------------------------------------------------------------------\u001b[0m",
      "\u001b[0;31mNameError\u001b[0m                                 Traceback (most recent call last)",
      "Cell \u001b[0;32mIn[9], line 1\u001b[0m\n\u001b[0;32m----> 1\u001b[0m dfp_tracks, dfp_features \u001b[39m=\u001b[39m isolate_columns(df_tracks, FEATURE_COLS)\n",
      "\u001b[0;31mNameError\u001b[0m: name 'isolate_columns' is not defined"
     ]
    }
   ],
   "source": [
    "dfp_tracks, dfp_features = isolate_columns(df_tracks, FEATURE_COLS)"
   ]
  },
  {
   "cell_type": "code",
   "execution_count": null,
   "id": "128bfdae",
   "metadata": {},
   "outputs": [],
   "source": []
  },
  {
   "cell_type": "code",
   "execution_count": null,
   "id": "c388823e",
   "metadata": {},
   "outputs": [],
   "source": [
    "dfp_tracks, dfp_feature = isolate_columns(df_tracks, )"
   ]
  }
 ],
 "metadata": {
  "kernelspec": {
   "display_name": "Python 3",
   "language": "python",
   "name": "python3"
  },
  "language_info": {
   "codemirror_mode": {
    "name": "ipython",
    "version": 3
   },
   "file_extension": ".py",
   "mimetype": "text/x-python",
   "name": "python",
   "nbconvert_exporter": "python",
   "pygments_lexer": "ipython3",
   "version": "3.9.1"
  },
  "papermill": {
   "default_parameters": {},
   "duration": 49.860583,
   "end_time": "2022-07-20T09:24:50.187926",
   "environment_variables": {},
   "exception": null,
   "input_path": "__notebook__.ipynb",
   "output_path": "__notebook__.ipynb",
   "parameters": {},
   "start_time": "2022-07-20T09:24:00.327343",
   "version": "2.3.4"
  },
  "vscode": {
   "interpreter": {
    "hash": "aee8b7b246df8f9039afb4144a1f6fd8d2ca17a180786b69acc140d282b71a49"
   }
  }
 },
 "nbformat": 4,
 "nbformat_minor": 5
}
