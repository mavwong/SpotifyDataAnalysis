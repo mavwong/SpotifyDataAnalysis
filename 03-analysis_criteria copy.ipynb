{
 "cells": [
  {
   "cell_type": "code",
   "execution_count": 1,
   "id": "a78bb2d0",
   "metadata": {
    "execution": {
     "iopub.execute_input": "2022-07-20T09:24:10.574643Z",
     "iopub.status.busy": "2022-07-20T09:24:10.574211Z",
     "iopub.status.idle": "2022-07-20T09:24:11.737892Z",
     "shell.execute_reply": "2022-07-20T09:24:11.736742Z"
    },
    "papermill": {
     "duration": 1.178986,
     "end_time": "2022-07-20T09:24:11.741737",
     "exception": false,
     "start_time": "2022-07-20T09:24:10.562751",
     "status": "completed"
    },
    "tags": []
   },
   "outputs": [],
   "source": [
    "import pandas as pd\n",
    "\n",
    "from relative_path import PATH_DATA, PATH_OUTPUT_DATA, \\\n",
    "    PATH_OUTPUT_GRAPH, PATH_OUTPUT_PROF\n",
    "from pandas import DataFrame, Series\n",
    "from typing import List, Dict"
   ]
  },
  {
   "attachments": {},
   "cell_type": "markdown",
   "id": "fda32b01",
   "metadata": {},
   "source": [
    "## Standard"
   ]
  },
  {
   "cell_type": "code",
   "execution_count": 2,
   "id": "4dd890bb",
   "metadata": {},
   "outputs": [],
   "source": [
    "TRACK_DATA =    PATH_DATA / \"tracks.parquet\"\n",
    "ARTIST_DATA =   PATH_DATA / \"artists.parquet\""
   ]
  },
  {
   "cell_type": "code",
   "execution_count": 3,
   "id": "608ee07e",
   "metadata": {},
   "outputs": [],
   "source": [
    "df_tracks = pd.read_parquet(TRACK_DATA)\n",
    "df_artist = pd.read_parquet(ARTIST_DATA)"
   ]
  },
  {
   "attachments": {},
   "cell_type": "markdown",
   "id": "e7adbbec",
   "metadata": {},
   "source": [
    "## Definition"
   ]
  },
  {
   "cell_type": "code",
   "execution_count": 4,
   "id": "530d0beb",
   "metadata": {},
   "outputs": [],
   "source": [
    "def preprocess_df(input_df:DataFrame, sort_by:str) -> DataFrame:\n",
    "    \"\"\" Preprocess dataframe: sorting data, reseting index, etc. \"\"\"\n",
    "    result_df = input_df.copy()\n",
    "    result_df.sort_values(by=sort_by, ascending=False, inplace=True)\n",
    "    result_df.reset_index(drop=True, inplace=True)\n",
    "    return result_df\n",
    "\n",
    "\n",
    "# def isolate_columns(input_df:DataFrame, feature_cols:List[str], merge_in:str=\"id\") -> DataFrame:\n",
    "#     \"\"\" Isolate or separate main and feature dataframe. \"\"\"\n",
    "#     df = input_df.copy()\n",
    "#     cols_df = list(df.columns)\n",
    "    \n",
    "#     # Get the main_cols\n",
    "#     main_cols = [merge_in]\n",
    "#     for col in cols_df:\n",
    "#         if not col in feature_cols:\n",
    "#             main_cols.append(col)\n",
    "            \n",
    "#     # main dataframe vs feature dataframe\n",
    "#     df_main = df[main_cols]\n",
    "#     df_feature = df[feature_cols]\n",
    "#     return df_main, df_feature"
   ]
  },
  {
   "cell_type": "code",
   "execution_count": 33,
   "id": "da260b9f",
   "metadata": {},
   "outputs": [],
   "source": [
    "dfp_tracks = preprocess_df(df_tracks, sort_by=\"popularity\")\n",
    "\n",
    "# Rename some columns within the data\n",
    "dfp_tracks.rename(columns = {\"id\":\"track_id\", \"id_artists\":\"artist_id\"}, inplace=True)\n",
    "\n",
    "# Process Data - Remove popularity values that less than 20. \n",
    "dfp_tracks = dfp_tracks[dfp_tracks[\"popularity\"] >= 20]\n"
   ]
  },
  {
   "cell_type": "code",
   "execution_count": 46,
   "id": "07598c8e",
   "metadata": {},
   "outputs": [],
   "source": [
    "def something(lst):\n",
    "    print(type(lst))"
   ]
  },
  {
   "cell_type": "code",
   "execution_count": 53,
   "id": "b36126aa",
   "metadata": {},
   "outputs": [
    {
     "ename": "TypeError",
     "evalue": "replace() got an unexpected keyword argument 'inplace'",
     "output_type": "error",
     "traceback": [
      "\u001b[0;31m---------------------------------------------------------------------------\u001b[0m",
      "\u001b[0;31mTypeError\u001b[0m                                 Traceback (most recent call last)",
      "Cell \u001b[0;32mIn[53], line 1\u001b[0m\n\u001b[0;32m----> 1\u001b[0m dfp_tracks[\u001b[39m\"\u001b[39;49m\u001b[39martist_id\u001b[39;49m\u001b[39m\"\u001b[39;49m]\u001b[39m.\u001b[39;49mstr\u001b[39m.\u001b[39;49mreplace(\u001b[39m\"\u001b[39;49m\u001b[39m[\u001b[39;49m\u001b[39m\"\u001b[39;49m, \u001b[39m\"\u001b[39;49m\u001b[39m\"\u001b[39;49m, inplace\u001b[39m=\u001b[39;49m\u001b[39mTrue\u001b[39;49;00m)\n\u001b[1;32m      2\u001b[0m dfp_tracks[\u001b[39m\"\u001b[39m\u001b[39martist_id\u001b[39m\u001b[39m\"\u001b[39m]\u001b[39m.\u001b[39mstr\u001b[39m.\u001b[39mreplace(\u001b[39m\"\u001b[39m\u001b[39m]\u001b[39m\u001b[39m\"\u001b[39m, \u001b[39m\"\u001b[39m\u001b[39m\"\u001b[39m)\n",
      "File \u001b[0;32m/Library/Frameworks/Python.framework/Versions/3.9/lib/python3.9/site-packages/pandas/core/strings/accessor.py:116\u001b[0m, in \u001b[0;36mforbid_nonstring_types.<locals>._forbid_nonstring_types.<locals>.wrapper\u001b[0;34m(self, *args, **kwargs)\u001b[0m\n\u001b[1;32m    111\u001b[0m     msg \u001b[39m=\u001b[39m (\n\u001b[1;32m    112\u001b[0m         \u001b[39mf\u001b[39m\u001b[39m\"\u001b[39m\u001b[39mCannot use .str.\u001b[39m\u001b[39m{\u001b[39;00mfunc_name\u001b[39m}\u001b[39;00m\u001b[39m with values of \u001b[39m\u001b[39m\"\u001b[39m\n\u001b[1;32m    113\u001b[0m         \u001b[39mf\u001b[39m\u001b[39m\"\u001b[39m\u001b[39minferred dtype \u001b[39m\u001b[39m'\u001b[39m\u001b[39m{\u001b[39;00m\u001b[39mself\u001b[39m\u001b[39m.\u001b[39m_inferred_dtype\u001b[39m}\u001b[39;00m\u001b[39m'\u001b[39m\u001b[39m.\u001b[39m\u001b[39m\"\u001b[39m\n\u001b[1;32m    114\u001b[0m     )\n\u001b[1;32m    115\u001b[0m     \u001b[39mraise\u001b[39;00m \u001b[39mTypeError\u001b[39;00m(msg)\n\u001b[0;32m--> 116\u001b[0m \u001b[39mreturn\u001b[39;00m func(\u001b[39mself\u001b[39;49m, \u001b[39m*\u001b[39;49margs, \u001b[39m*\u001b[39;49m\u001b[39m*\u001b[39;49mkwargs)\n",
      "\u001b[0;31mTypeError\u001b[0m: replace() got an unexpected keyword argument 'inplace'"
     ]
    }
   ],
   "source": [
    "dfp_tracks[\"artist_id\"].str.replace(\"[\", \"\")\n",
    "dfp_tracks[\"artist_id\"].str.replace(\"]\", \"\")"
   ]
  },
  {
   "cell_type": "code",
   "execution_count": null,
   "id": "7c4c9338",
   "metadata": {},
   "outputs": [],
   "source": []
  },
  {
   "cell_type": "code",
   "execution_count": 48,
   "id": "02866ce7",
   "metadata": {},
   "outputs": [
    {
     "name": "stdout",
     "output_type": "stream",
     "text": [
      "String before conversion:  spe@#$ci87al*&\n",
      "String after conversion:  speci87al\n"
     ]
    }
   ],
   "source": [
    "# String with special characters\n",
    "special_string=\"spe@#$ci87al*&\"\n",
    "# A list of special characters\n",
    "special_characters=['@','#','$','*','&']\n",
    "print(\"String before conversion: \",special_string)\n",
    "# using lambda function to find if the special characters are in the list\n",
    "# Converting list to string using the join method\n",
    "normal_string = \"\".join(filter(lambda char: char not in special_characters , special_string))\n",
    "print(\"String after conversion: \",normal_string)"
   ]
  },
  {
   "cell_type": "code",
   "execution_count": 50,
   "id": "b63db64e",
   "metadata": {},
   "outputs": [
    {
     "data": {
      "text/plain": [
       "['s', 'p', 'e', '@', '#', '$', 'c', 'i', '8', '7', 'a', 'l', '*', '&']"
      ]
     },
     "execution_count": 50,
     "metadata": {},
     "output_type": "execute_result"
    }
   ],
   "source": [
    "special_string=\"spe@#$ci87al*&\"\n",
    "\n",
    "something = [x for x in special_string]\n",
    "something"
   ]
  },
  {
   "cell_type": "code",
   "execution_count": 54,
   "id": "50f23d05",
   "metadata": {},
   "outputs": [],
   "source": [
    "def remove_characters(string:str, special_char:str = None):\n",
    "    if special_char == None:\n",
    "        special_char = \"@#$*&\"\n",
    "        \n",
    "    lst_special_char = [x for x in special_char]\n",
    "    result = \"\".join(filter(lambda char: char not in lst_special_char , string))\n",
    "    return result"
   ]
  },
  {
   "cell_type": "code",
   "execution_count": 56,
   "id": "1f7c967b",
   "metadata": {},
   "outputs": [
    {
     "data": {
      "text/plain": [
       "'sample'"
      ]
     },
     "execution_count": 56,
     "metadata": {},
     "output_type": "execute_result"
    }
   ],
   "source": [
    "special_string=\"[sample]\"\n",
    "\n",
    "remove_characters(special_string, \"[]\")"
   ]
  },
  {
   "cell_type": "code",
   "execution_count": null,
   "id": "97444712",
   "metadata": {},
   "outputs": [],
   "source": []
  }
 ],
 "metadata": {
  "kernelspec": {
   "display_name": "Python 3",
   "language": "python",
   "name": "python3"
  },
  "language_info": {
   "codemirror_mode": {
    "name": "ipython",
    "version": 3
   },
   "file_extension": ".py",
   "mimetype": "text/x-python",
   "name": "python",
   "nbconvert_exporter": "python",
   "pygments_lexer": "ipython3",
   "version": "3.9.1 (v3.9.1:1e5d33e9b9, Dec  7 2020, 12:10:52) \n[Clang 6.0 (clang-600.0.57)]"
  },
  "papermill": {
   "default_parameters": {},
   "duration": 49.860583,
   "end_time": "2022-07-20T09:24:50.187926",
   "environment_variables": {},
   "exception": null,
   "input_path": "__notebook__.ipynb",
   "output_path": "__notebook__.ipynb",
   "parameters": {},
   "start_time": "2022-07-20T09:24:00.327343",
   "version": "2.3.4"
  },
  "vscode": {
   "interpreter": {
    "hash": "aee8b7b246df8f9039afb4144a1f6fd8d2ca17a180786b69acc140d282b71a49"
   }
  }
 },
 "nbformat": 4,
 "nbformat_minor": 5
}
